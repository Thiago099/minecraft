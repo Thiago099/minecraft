{
 "cells": [
  {
   "cell_type": "code",
   "execution_count": 2,
   "metadata": {},
   "outputs": [],
   "source": [
    "import time\n",
    "from selenium import webdriver\n",
    "from selenium.webdriver.common.by import By\n",
    "from selenium.webdriver.support.ui import WebDriverWait\n",
    "from selenium.webdriver.support import expected_conditions as EC\n",
    "from selenium.common.exceptions import TimeoutException\n",
    "import selenium_base\n",
    "import json\n",
    "from tqdm import tqdm\n"
   ]
  },
  {
   "cell_type": "code",
   "execution_count": 1,
   "metadata": {},
   "outputs": [
    {
     "name": "stderr",
     "output_type": "stream",
     "text": [
      "100%|██████████| 517/517 [1:03:27<00:00,  7.36s/it]\n"
     ]
    }
   ],
   "source": [
    "\n",
    "driver = selenium_base.chrome()\n",
    "\n",
    "\n",
    "data = []\n",
    "for i in tqdm(range(1, 518)):\n",
    "    driver.get(f'https://www.curseforge.com/minecraft/mc-mods?filter-game-version=2020709689:8203&filter-sort=4&page={i}')\n",
    "    elements = WebDriverWait(driver, 10).until(\n",
    "        EC.presence_of_all_elements_located((By.CSS_SELECTOR, \".project-listing-row\"))\n",
    "    )\n",
    "    for element in elements:\n",
    "        image = ''\n",
    "        try:\n",
    "            image = element.find_element(By.CSS_SELECTOR, \".mx-auto\").get_attribute('src')\n",
    "        except:\n",
    "            pass\n",
    "        data.append({\n",
    "            'image' : image,\n",
    "            'link': element.find_element(By.CSS_SELECTOR, \".my-auto\").get_attribute('href'),\n",
    "            'name': element.find_element(By.CSS_SELECTOR, \".my-auto h3\").get_attribute('innerText'),\n",
    "            'description': element.find_element(By.CSS_SELECTOR, \".text-sm.leading-snug\").get_attribute('innerText')\n",
    "        })\n",
    "\n",
    "    with open('mods.json', 'w+') as file:\n",
    "        file.write(json.dumps(data))"
   ]
  },
  {
   "cell_type": "code",
   "execution_count": 3,
   "metadata": {},
   "outputs": [
    {
     "name": "stdout",
     "output_type": "stream",
     "text": [
      "industrial-foregoing-1.16.5-3.2.14.7-16.jar\n"
     ]
    }
   ],
   "source": [
    "import file_download\n",
    "import selenium_base\n",
    "def download(url):\n",
    "    driver = selenium_base.chrome()\n",
    "    driver.get(url + '/relations/dependencies')\n",
    "    try:\n",
    "        WebDriverWait(driver, 10).until(\n",
    "            EC.presence_of_all_elements_located((By.CSS_SELECTOR, '.project-avatar.project-avatar-64'))\n",
    "        )\n",
    "        elements = driver.find_elements(By.CSS_SELECTOR, '.flex.flex-col .items-end.hidden a:not(.text-base.leading-normal.font-bold)')\n",
    "        for element in elements:\n",
    "            download(element.get_attribute('href'))\n",
    "    except Exception as e:\n",
    "        pass\n",
    "    page = 1\n",
    "    while True:\n",
    "        driver.get(url + f'/files/all?page={page}')\n",
    "        elements = WebDriverWait(driver, 10).until(\n",
    "            EC.presence_of_all_elements_located((By.CSS_SELECTOR, \".listing-body table tbody tr\"))\n",
    "        )\n",
    "        for element in elements:\n",
    "            if(element.find_element(By.CSS_SELECTOR, '.mr-2').get_attribute('innerText') == '1.16.5'):\n",
    "                name = element.find_element(By.CSS_SELECTOR, '[data-action=\"file-link\"]').get_attribute('innerText')\n",
    "                link = element.find_element(By.CSS_SELECTOR, '[data-tooltip=\"Download file\"]').get_attribute('href')+'/file'\n",
    "                file_download.download(\n",
    "                    link,\n",
    "                    r\"C:\\xampp\\htdocs\\minecraft\\mods\"\n",
    "                )\n",
    "                driver.close()\n",
    "                return name\n",
    "        page += 1\n",
    "\n",
    "print(download('https://www.curseforge.com/minecraft/mc-mods/industrial-foregoing'))"
   ]
  }
 ],
 "metadata": {
  "interpreter": {
   "hash": "f0d9a7cd1f0e24e1e06e6e11ca7ef582e03455e211f245ad365318db042b07ed"
  },
  "kernelspec": {
   "display_name": "Python 3.9.9 64-bit (windows store)",
   "language": "python",
   "name": "python3"
  },
  "language_info": {
   "codemirror_mode": {
    "name": "ipython",
    "version": 3
   },
   "file_extension": ".py",
   "mimetype": "text/x-python",
   "name": "python",
   "nbconvert_exporter": "python",
   "pygments_lexer": "ipython3",
   "version": "3.9.9"
  },
  "orig_nbformat": 4
 },
 "nbformat": 4,
 "nbformat_minor": 2
}
